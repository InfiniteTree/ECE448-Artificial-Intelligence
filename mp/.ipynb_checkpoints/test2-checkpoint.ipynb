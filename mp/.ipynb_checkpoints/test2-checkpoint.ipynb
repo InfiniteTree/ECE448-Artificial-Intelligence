{
 "cells": [
  {
   "cell_type": "code",
   "execution_count": 9,
   "metadata": {},
   "outputs": [],
   "source": [
    "import numpy as np\n",
    "\n",
    "dominos = [np.array([[i],[i]]) for i in range(1,31)]\n",
    "triominos = [np.array([[i,0],[i,i]]) for i in range(1,21)]\n",
    "\n",
    "pentnominos = [np.array([[0,1,1],\n",
    "                   [1,1,0],\n",
    "                   [0,1,0]]),\n",
    "        np.array([[2],\n",
    "                  [2],\n",
    "                  [2],\n",
    "                  [2],\n",
    "                  [2]]),\n",
    "        np.array([[3,0],\n",
    "                  [3,0],\n",
    "                  [3,0],\n",
    "                  [3,3]]),\n",
    "        np.array([[0,4],\n",
    "                  [0,4],\n",
    "                  [4,4],\n",
    "                  [4,0]]),\n",
    "        np.array([[5,5],\n",
    "                  [5,5],\n",
    "                  [5,0]]),\n",
    "        np.array([[6,6,6],\n",
    "                  [0,6,0],\n",
    "                  [0,6,0]]),\n",
    "        np.array([[7,0,7], \n",
    "                  [7,7,7]]),\n",
    "        np.array([[8,0,0], \n",
    "                  [8,0,0],\n",
    "                  [8,8,8]]),\n",
    "        np.array([[9,0,0],\n",
    "                  [9,9,0],\n",
    "                  [0,9,9]]),\n",
    "        np.array([[0,10,0],\n",
    "                  [10,10,10],\n",
    "                  [0,10,0]]),\n",
    "        np.array([[0,11],\n",
    "                  [11,11],\n",
    "                  [0,11],\n",
    "                  [0,11]]),\n",
    "        np.array([[12,12,0],\n",
    "                  [0,12,0],\n",
    "                  [0,12,12]])]\n",
    "\n",
    "### print(dominos)\n",
    "### print(triominos)\n",
    "### print(pentnominos)"
   ]
  },
  {
   "cell_type": "code",
   "execution_count": 22,
   "metadata": {},
   "outputs": [
    {
     "name": "stdout",
     "output_type": "stream",
     "text": [
      "[[1. 1. 1. 1. 1. 1. 1. 1. 1. 1.]\n",
      " [1. 1. 1. 1. 1. 1. 1. 1. 1. 1.]\n",
      " [1. 1. 1. 1. 1. 1. 1. 1. 1. 1.]\n",
      " [1. 1. 1. 1. 1. 1. 1. 1. 1. 1.]\n",
      " [1. 1. 1. 1. 1. 1. 1. 1. 1. 1.]\n",
      " [1. 1. 1. 1. 1. 1. 1. 1. 1. 1.]]\n"
     ]
    }
   ],
   "source": [
    "board_6x10 = np.ones((6,10))\n",
    "board_5x12 = np.ones((5,12))\n",
    "board_3x20 = np.ones((3,20))\n",
    "\n",
    "board_t=board_6x10\n",
    "print(board_t)\n",
    "###print(np.array(board_t))"
   ]
  },
  {
   "cell_type": "code",
   "execution_count": 4,
   "metadata": {},
   "outputs": [
    {
     "name": "stdout",
     "output_type": "stream",
     "text": [
      "(6, 10)\n"
     ]
    }
   ],
   "source": [
    "print(board_6x10.shape)"
   ]
  },
  {
   "cell_type": "code",
   "execution_count": 15,
   "metadata": {},
   "outputs": [
    {
     "name": "stdout",
     "output_type": "stream",
     "text": [
      "[[3 0]\n",
      " [3 0]\n",
      " [3 0]\n",
      " [3 3]]\n"
     ]
    }
   ],
   "source": [
    "p = pentnominos[2]\n",
    "print(pentnominos[2])"
   ]
  },
  {
   "cell_type": "code",
   "execution_count": 24,
   "metadata": {},
   "outputs": [
    {
     "ename": "ValueError",
     "evalue": "setting an array element with a sequence.",
     "output_type": "error",
     "traceback": [
      "\u001b[1;31m---------------------------------------------------------------------------\u001b[0m",
      "\u001b[1;31mValueError\u001b[0m                                Traceback (most recent call last)",
      "\u001b[1;32m<ipython-input-24-113cc4b1684a>\u001b[0m in \u001b[0;36m<module>\u001b[1;34m()\u001b[0m\n\u001b[1;32m----> 1\u001b[1;33m \u001b[0mboard_t\u001b[0m\u001b[1;33m[\u001b[0m\u001b[1;36m0\u001b[0m\u001b[1;33m+\u001b[0m\u001b[1;36m3\u001b[0m\u001b[1;33m]\u001b[0m\u001b[1;33m[\u001b[0m\u001b[1;36m0\u001b[0m\u001b[1;33m+\u001b[0m\u001b[1;36m3\u001b[0m\u001b[1;33m]\u001b[0m \u001b[1;33m=\u001b[0m \u001b[0mp\u001b[0m\u001b[1;33m\u001b[0m\u001b[0m\n\u001b[0m\u001b[0;32m      2\u001b[0m \u001b[0mprint\u001b[0m\u001b[1;33m(\u001b[0m\u001b[0mboard_t\u001b[0m\u001b[1;33m)\u001b[0m\u001b[1;33m\u001b[0m\u001b[0m\n",
      "\u001b[1;31mValueError\u001b[0m: setting an array element with a sequence."
     ]
    }
   ],
   "source": []
  },
  {
   "cell_type": "code",
   "execution_count": 25,
   "metadata": {
    "collapsed": true
   },
   "outputs": [],
   "source": [
    "def get_pent_label(pent):\n",
    "    \"\"\"\n",
    "    Returns the label of a pentomino.\n",
    "    \"\"\"\n",
    "    for i in range(pent.shape[0]):\n",
    "        for j in range(pent.shape[1]):\n",
    "            if pent[i][j] != 0:\n",
    "                plabel = pent[i][j]\n",
    "                break\n",
    "        if plabel != 0:\n",
    "            break\n",
    "    return plabel"
   ]
  },
  {
   "cell_type": "code",
   "execution_count": 26,
   "metadata": {},
   "outputs": [
    {
     "name": "stdout",
     "output_type": "stream",
     "text": [
      "1\n",
      "2\n",
      "3\n",
      "4\n",
      "5\n",
      "6\n",
      "7\n",
      "8\n",
      "9\n",
      "10\n",
      "11\n",
      "12\n"
     ]
    }
   ],
   "source": []
  },
  {
   "cell_type": "code",
   "execution_count": null,
   "metadata": {
    "collapsed": true
   },
   "outputs": [],
   "source": []
  }
 ],
 "metadata": {
  "kernelspec": {
   "display_name": "Python 3",
   "language": "python",
   "name": "python3"
  },
  "language_info": {
   "codemirror_mode": {
    "name": "ipython",
    "version": 3
   },
   "file_extension": ".py",
   "mimetype": "text/x-python",
   "name": "python",
   "nbconvert_exporter": "python",
   "pygments_lexer": "ipython3",
   "version": "3.6.2"
  }
 },
 "nbformat": 4,
 "nbformat_minor": 2
}
