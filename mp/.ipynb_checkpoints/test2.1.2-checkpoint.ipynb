{
 "cells": [
  {
   "cell_type": "code",
   "execution_count": 124,
   "metadata": {
    "collapsed": true
   },
   "outputs": [],
   "source": [
    "# -*- coding: utf-8 -*-\n",
    "import numpy as np\n",
    "import collections\n",
    "from collections import  defaultdict\n",
    "import datetime\n",
    "\n",
    "\n",
    "def getPTypeAndLable(pent):\n",
    "    '''\n",
    "    Function getPTypeAndPLable\n",
    "    Input: A pent\n",
    "    Output: Two ints: one represents the label number of the pent matrix and \n",
    "                    the other represents the the number of squares that some pent is made by \n",
    "    '''\n",
    "    PLabel, PType = 0, 0\n",
    "    for row in range(pent.shape[0]):\n",
    "        for col in range(pent.shape[1]):\n",
    "            if pent[row][col] != 0:\n",
    "                PType += 1\n",
    "                if PLabel == 0:\n",
    "                    PLabel = pent[row][col]\n",
    "    return PType, PLabel\n",
    "\n",
    "\n",
    "def getMutations(pent):\n",
    "    '''\n",
    "    Function getMutation\n",
    "    Input: A pent\n",
    "    Output: A list contain all of the possible mutations by flipping and rotation of a pent\n",
    "            with the relative coordinates of each squares\n",
    "    '''\n",
    "    mutations = set() # use a set to avoid add reduplicated numpy mutation\n",
    "    mutation = pent\n",
    "    rotation_num = 4 # rot90° while in a 2-D plane 360°/90° = 4\n",
    "    flip_num = 2 # Two possible flipping trials with flip 180°\n",
    "\n",
    "    i=0\n",
    "    while i<rotation_num:\n",
    "        j = 0\n",
    "        while j<flip_num:\n",
    "            Tran_mutation = getSingleMutation(mutation)\n",
    "            mutations.add(Tran_mutation) # add first to add the original pent\n",
    "            mutation = np.flip(mutation,j-1)\n",
    "            ### print(\"mutation is\",mutation)\n",
    "            j += 1\n",
    "        mutation = np.rot90(mutation)\n",
    "        i += 1\n",
    "    return list(mutations)\n",
    "\n",
    "\n",
    "def getSingleMutation(mutation):\n",
    "    '''\n",
    "    Function getSingleMutation\n",
    "    Input: A mutation\n",
    "    Output: A tuple contain one mutations by flipping or rotation of a pent\n",
    "            with the relative coordinates of each squares\n",
    "    '''\n",
    "    coords = tuple() # use tuple to avoid np error in add\n",
    "    for x, y in np.ndindex(mutation.shape):\n",
    "        if mutation[x][y] != 0:\n",
    "            coords += ((x, y),)\n",
    "\n",
    "    origin = coords[0] # Define the origin pos of the mutation to calculate the other squares' coordinates\n",
    "\n",
    "    for coord in coords:\n",
    "        if coord[1] < origin[1]:\n",
    "            origin = coord\n",
    "        elif coord[1] == origin[1] and coord[0] < origin[0]:\n",
    "            origin = coord\n",
    "\n",
    "    TranMutation = tuple()\n",
    "    for coord in coords:\n",
    "        TranMutation += ((coord[0] - origin[0], coord[1] - origin[1]),)\n",
    "\n",
    "    return tuple(sorted(TranMutation)) \n",
    "\n",
    "\n",
    "def getPentsMap(pents):\n",
    "    '''\n",
    "    Function getPentsMap\n",
    "    Input: Pents\n",
    "    Output: A dictionary contain the (type, label) as the key,\n",
    "            and the coordinates of all mutations by all pents as the value\n",
    "    '''\n",
    "    pentsMaps = {}\n",
    "    p_type = 0 # (2/3/5) the number of squares that some pent is made by \n",
    "    p_label = 0 # for pento:1-12\n",
    "    for pent in pents:\n",
    "        p_type, p_label = getPTypeAndLable(pent)\n",
    "        pentsMaps[p_label] = getMutations(pent)\n",
    "    return pentsMaps\n",
    "\n",
    "def in_bound(board_size, pent):\n",
    "    '''\n",
    "    Function: in_bound\n",
    "    Instruction: Help to judge whether a pent to place is in bound\n",
    "    Input: board_size, pent\n",
    "    Output: A bool value: True indicates in bound while false for out of bound\n",
    "    '''\n",
    "    return 0 <= pent[0] < board_size[0] and 0 <= pent[1] < board_size[1]\n",
    "\n",
    "\n",
    "def solve(board, pents):\n",
    "    \"\"\"\n",
    "    This is the function you will implement. It will take in a numpy array of the board\n",
    "    as well as a list of n tiles in the form of numpy arrays. The solution returned\n",
    "    is of the form [(p1, (row1, col1))...(pn,  (rown, coln))]\n",
    "    where pi is a tile (may be rotated or flipped), and (rowi, coli) is \n",
    "    the coordinate of the upper left corner of pi in the board (lowest row and column index \n",
    "    that the tile covers).\n",
    "    \n",
    "    -Use np.flip and np.rot90 to manipulate pentominos.\n",
    "    \n",
    "    -You may assume there will always be a solution.\n",
    "    \"\"\"\n",
    "    board = np.array(board)\n",
    "\n",
    "    # change the board a litte to be compatible with the pents\n",
    "    board[board == 0] = -1\n",
    "    board[board == 1] = 0\n",
    "    \n",
    "    #print(\"pents_maps is\",pents_map)\n",
    "    pents_maps = getPentsMap(pents)\n",
    "    p_type = getPTypeAndLable(pents[0])[0]\n",
    "\n",
    "    init_call = [0] # Use a list to counter the number of times call by recursive pents_dfs. list:Variable type\n",
    "    \n",
    "    start_time = datetime.datetime.now()\n",
    "    res_status, res_board = pents_Gdfs(board, dict(pents_maps), p_type, init_call)\n",
    "    end_time = datetime.datetime.now()\n",
    "    \n",
    "    seconds  = (end_time - start_time).seconds\n",
    "    print(\"The running time of GDFS is (in seconds)\",seconds)\n",
    "    ### print(res_status)\n",
    "    print(res_board)  # UI print for the tiled board\n",
    "    \n",
    "    \n",
    "    if not res_status:\n",
    "        print(\"Failed: Could not found a solution\")\n",
    "        return\n",
    "    \n",
    "    elif res_status:\n",
    "        # use the board to determine the final layout to return\n",
    "        pents_coords = defaultdict(list)\n",
    "        for x, y in np.ndindex(res_board.shape):\n",
    "            if res_board[x][y] in pents_maps:\n",
    "                pents_coords[res_board[x][y]].append((x, y))\n",
    "\n",
    "        sol = []\n",
    "\n",
    "        for plabel, coords in pents_coords.items():\n",
    "            min_x, max_x, min_y, max_y = coords[0][0], coords[0][0], coords[0][1], coords[0][1]\n",
    "\n",
    "            for coord in coords:\n",
    "                min_x, max_x = min(min_x, coord[0]), max(max_x, coord[0])\n",
    "                min_y, max_y = min(min_y, coord[1]), max(max_y, coord[1])\n",
    "\n",
    "            piece = np.zeros((max_x - min_x + 1, max_y - min_y + 1))\n",
    "\n",
    "            for coord in coords:\n",
    "                piece[coord[0] - min_x][coord[1] - min_y] = plabel\n",
    "\n",
    "            sol.append((piece.astype(int), (min_x, min_y)))\n",
    "        ### print(sol)\n",
    "        return sol\n",
    "\n",
    "\n",
    "def solveAll(board, pents):\n",
    "    '''\n",
    "    Function: solveAll\n",
    "    Instruction: For mp2 part1, the solve function only need to return with one solution while \n",
    "    actually there could exit much more solutions. If we need to find all the solutions of the problem,\n",
    "    simply using dfs could take too much spatial complexity and time complexity because it does a lot of \n",
    "    recursions. One optimization approach our team finds is call DLX algorithm, which can solve the\n",
    "    problem with less O(n) and S(n) especially if with larger size of the board.\n",
    "    '''\n",
    "    # Part 1.1 Transform the polyomino problem into a exact cover problem\n",
    "    # Part 1.2 using DLX algorithm to solve the exact cover problem\n",
    "    # DLX: Using Dancing linked data structure to accomplish nondeterministic algorithm (X algorithm)\n",
    "    # DLX is provided by Donald E. Knuth from Stanford University\n",
    "    # Part 1.3 use the solution by the cover problem to get the return value \n",
    "\n"
   ]
  },
  {
   "cell_type": "code",
   "execution_count": 45,
   "metadata": {
    "collapsed": true
   },
   "outputs": [],
   "source": [
    "dominos = [np.array([[i],[i]]) for i in range(1,31)]\n",
    "triominos = [np.array([[i,0],[i,i]]) for i in range(1,21)]\n",
    "\n",
    "pentnominos = [np.array([[0,1,1],\n",
    "                   [1,1,0],\n",
    "                   [0,1,0]]),\n",
    "        np.array([[2],\n",
    "                  [2],\n",
    "                  [2],\n",
    "                  [2],\n",
    "                  [2]]),\n",
    "        np.array([[3,0],\n",
    "                  [3,0],\n",
    "                  [3,0],\n",
    "                  [3,3]]),\n",
    "        np.array([[0,4],\n",
    "                  [0,4],\n",
    "                  [4,4],\n",
    "                  [4,0]]),\n",
    "        np.array([[5,5],\n",
    "                  [5,5],\n",
    "                  [5,0]]),\n",
    "        np.array([[6,6,6],\n",
    "                  [0,6,0],\n",
    "                  [0,6,0]]),\n",
    "        np.array([[7,0,7], \n",
    "                  [7,7,7]]),\n",
    "        np.array([[8,0,0], \n",
    "                  [8,0,0],\n",
    "                  [8,8,8]]),\n",
    "        np.array([[9,0,0],\n",
    "                  [9,9,0],\n",
    "                  [0,9,9]]),\n",
    "        np.array([[0,10,0],\n",
    "                  [10,10,10],\n",
    "                  [0,10,0]]),\n",
    "        np.array([[0,11],\n",
    "                  [11,11],\n",
    "                  [0,11],\n",
    "                  [0,11]]),\n",
    "        np.array([[12,12,0],\n",
    "                  [0,12,0],\n",
    "                  [0,12,12]])]"
   ]
  },
  {
   "cell_type": "code",
   "execution_count": null,
   "metadata": {
    "collapsed": true
   },
   "outputs": [],
   "source": [
    "\n"
   ]
  },
  {
   "cell_type": "code",
   "execution_count": 22,
   "metadata": {},
   "outputs": [
    {
     "data": {
      "text/plain": [
       "12"
      ]
     },
     "execution_count": 22,
     "metadata": {},
     "output_type": "execute_result"
    }
   ],
   "source": [
    "len(pents_t)"
   ]
  },
  {
   "cell_type": "code",
   "execution_count": 71,
   "metadata": {
    "collapsed": true
   },
   "outputs": [],
   "source": [
    "def GDFS_forward_checking(board, num_remain_pents, p_type):\n",
    "    '''\n",
    "    Function GDFS_forward_checking\n",
    "    Input: the current board, the number of the remained pents,  p_type\n",
    "    Output: A bool value to indicate whether the forward checking is successful\n",
    "    '''\n",
    "    fc_flag = True\n",
    "    unfix = 0\n",
    "    for i, j in ((i, j) for j in range(board.shape[1]) for i in range(board.shape[0])):\n",
    "        if board[i][j] == -1:\n",
    "            unfix += 1\n",
    "    ### print(\"unfix is\", unfix)\n",
    "    if unfix > num_remain_pents * p_type:\n",
    "        fc_flag = False\n",
    "    return fc_flag"
   ]
  },
  {
   "cell_type": "code",
   "execution_count": 43,
   "metadata": {
    "collapsed": true
   },
   "outputs": [],
   "source": [
    "#board_t[board_t == 0] = -1\n",
    "#board_t[board_t == 1] = 0\n",
    "#print(board_t)"
   ]
  },
  {
   "cell_type": "code",
   "execution_count": 38,
   "metadata": {},
   "outputs": [
    {
     "name": "stdout",
     "output_type": "stream",
     "text": [
      "unfix is 60\n"
     ]
    },
    {
     "data": {
      "text/plain": [
       "True"
      ]
     },
     "execution_count": 38,
     "metadata": {},
     "output_type": "execute_result"
    }
   ],
   "source": [
    "GDFS_forward_checking(board_t, pents_t, 5)"
   ]
  },
  {
   "cell_type": "code",
   "execution_count": 75,
   "metadata": {
    "collapsed": true
   },
   "outputs": [],
   "source": [
    "def if_forwardCheck(x,y,p_type):\n",
    "    '''\n",
    "    Function GDFS_forward_checking\n",
    "    Input: the current position x, the current position y,  p_type\n",
    "    Output: A bool value to indicate whether it is needed to do the forward checking\n",
    "    '''\n",
    "    if x==0 and (y+1)//p_type >=2: # To do forward checking\n",
    "        ### print(\"x and nump_type is\",x,(y+1)//p_type)\n",
    "        return True\n",
    "    else: # Not to do\n",
    "        return False"
   ]
  },
  {
   "cell_type": "code",
   "execution_count": 149,
   "metadata": {
    "collapsed": true
   },
   "outputs": [],
   "source": [
    "def pents_Gdfs(board, pents_maps,  p_type, dfs_call):\n",
    "    '''\n",
    "    Function: pents_dfs\n",
    "    Instruction: Using GDFS algorithm doing recursion to find a accessible solution:\n",
    "                 Consider to fix all the points of the board one by one with the order from left to right\n",
    "                 column by column. Use Heuristics that \n",
    "                 1)choose the next variable(the point) to asign by LRV \n",
    "                 2) use early detection of failure by use forward checking.\n",
    "    Input: board_size, pent, p_type,dfs_call\n",
    "    Output: a tuple with two variables:\n",
    "            a bool value: True indicates in bound while false for out of bound\n",
    "            a new board: a board that is resulted with inserted pents on it\n",
    "    '''\n",
    "    find_status = False # a flag for indicating whether successful to find a final solution\n",
    "    next_loop = False # a flag for next loop in travesal one pents_map\n",
    "    dfs_call[0]+=1\n",
    "    \n",
    "    # The pents_maps is empty\n",
    "    if not pents_maps:\n",
    "        find_status = True\n",
    "        print(\"dfs time is\", dfs_call[0])\n",
    "        return find_status, board\n",
    "\n",
    "    # Traversal all of the points in the board matrix to put the pents into it\n",
    "    # Use generator type to decreas for loop time and  speed up\n",
    "    for x, y in ((x, y) for y in range(board.shape[1]) for x in range(board.shape[0])): \n",
    "    # First find the the uncovered position to add a pent\n",
    "        if board[x][y] == 0:\n",
    "            # Use each pent with smallest mutations one by one to check whether it can be fit in the board (LRV)\n",
    "            for plabel, mutations in pents_maps.items():\n",
    "                for mutation in mutations:\n",
    "                    next_loop = False\n",
    "                    pent = [0, 0]\n",
    "                    # check whether it's accessible to add the pent onto the board\n",
    "                    for x_move, y_move in mutation:\n",
    "                        pent[0] = x + x_move\n",
    "                        pent[1] = y + y_move\n",
    "                        if not in_bound(board.shape, pent) or board[x + x_move][y + y_move] != 0:\n",
    "                            next_loop = True\n",
    "                            break\n",
    "\n",
    "                    # continue to the next mutation fixing if out of board or fail insertion detected\n",
    "                    if next_loop:\n",
    "                        continue\n",
    "\n",
    "                    # Use forward checking to do early detection of failure solution\n",
    "\n",
    "                    if if_forwardCheck(x,y,p_type):\n",
    "                        num_remain_pents = len(pents_maps)\n",
    "                        ### print(\"number of remain_pents is\",num_remain_pents)\n",
    "                        fc_flag = GDFS_forward_checking(board, num_remain_pents,p_type)\n",
    "                        if fc_flag == False:\n",
    "                            \n",
    "                            return find_status, board #Early backward tracing\n",
    "\n",
    "                    # data updated for next recursion\n",
    "                    new_board = np.array(board)\n",
    "                    new_pents_maps = dict(pents_maps)\n",
    "                    new_pents_maps.pop(plabel)\n",
    "\n",
    "                    for x_move, y_move in mutation:\n",
    "                        new_board[x + x_move][y + y_move] = plabel # add the pent to the board\n",
    "\n",
    "                    # dfs Recursion: forward-tracking\n",
    "                    find_status, res_board = pents_Gdfs(new_board, new_pents_maps,  p_type, dfs_call)\n",
    "\n",
    "                    if find_status:\n",
    "                        return find_status, res_board\n",
    "\n",
    "            return find_status, board\n"
   ]
  },
  {
   "cell_type": "code",
   "execution_count": 152,
   "metadata": {
    "collapsed": true
   },
   "outputs": [],
   "source": [
    "board_6x10 = np.ones((6,10))\n",
    "board_5x12 = np.ones((5,12))\n",
    "board_3x20 = np.ones((3,20))\n",
    "board_test = np.ones((10,12))\n",
    "\n",
    "pents_t = pentnominos\n",
    "pents_test = pentnominos * 2"
   ]
  },
  {
   "cell_type": "code",
   "execution_count": 153,
   "metadata": {},
   "outputs": [
    {
     "name": "stdout",
     "output_type": "stream",
     "text": [
      "dfs time is 17\n",
      "The running time of GDFS is (in seconds) 0\n",
      "[[ 1.  1.  6.  6.  6.  0.  0.  0.  0.  0.  0.  0.]\n",
      " [ 2.  1.  1.  6.  9.  9.  0.  0.  0.  0.  0.  0.]\n",
      " [ 2.  1.  7.  6.  7.  9.  9.  0.  0.  0.  0.  0.]\n",
      " [ 2.  3.  7.  7.  7.  0.  9.  0.  0.  0.  0.  0.]\n",
      " [ 2.  3. 12.  8.  8.  8.  0.  0.  0.  0.  0.  0.]\n",
      " [ 2.  3. 12. 12. 12.  8.  0.  0.  0.  0.  0.  0.]\n",
      " [ 3.  3.  4.  4. 12.  8. 11.  0.  0.  0.  0.  0.]\n",
      " [ 4.  4.  4. 10. 11. 11. 11. 11.  0.  0.  0.  0.]\n",
      " [ 5.  5. 10. 10. 10.  0.  0.  0.  0.  0.  0.  0.]\n",
      " [ 5.  5.  5. 10.  0.  0.  0.  0.  0.  0.  0.  0.]]\n"
     ]
    },
    {
     "data": {
      "text/plain": [
       "[(array([[1, 1, 0],\n",
       "         [0, 1, 1],\n",
       "         [0, 1, 0]]), (0, 0)), (array([[6, 6, 6],\n",
       "         [0, 6, 0],\n",
       "         [0, 6, 0]]), (0, 2)), (array([[2],\n",
       "         [2],\n",
       "         [2],\n",
       "         [2],\n",
       "         [2]]), (1, 0)), (array([[9, 9, 0],\n",
       "         [0, 9, 9],\n",
       "         [0, 0, 9]]), (1, 4)), (array([[7, 0, 7],\n",
       "         [7, 7, 7]]), (2, 2)), (array([[0, 3],\n",
       "         [0, 3],\n",
       "         [0, 3],\n",
       "         [3, 3]]), (3, 0)), (array([[12,  0,  0],\n",
       "         [12, 12, 12],\n",
       "         [ 0,  0, 12]]), (4, 2)), (array([[8, 8, 8],\n",
       "         [0, 0, 8],\n",
       "         [0, 0, 8]]), (4, 3)), (array([[0, 0, 4, 4],\n",
       "         [4, 4, 4, 0]]), (6, 0)), (array([[ 0,  0, 11,  0],\n",
       "         [11, 11, 11, 11]]), (6, 4)), (array([[ 0, 10,  0],\n",
       "         [10, 10, 10],\n",
       "         [ 0, 10,  0]]), (7, 2)), (array([[5, 5, 0],\n",
       "         [5, 5, 5]]), (8, 0))]"
      ]
     },
     "execution_count": 153,
     "metadata": {},
     "output_type": "execute_result"
    }
   ],
   "source": [
    "solve(board_test,pents_test)"
   ]
  },
  {
   "cell_type": "code",
   "execution_count": 119,
   "metadata": {},
   "outputs": [
    {
     "data": {
      "text/plain": [
       "datetime.datetime(2023, 4, 1, 8, 38, 3, 139438)"
      ]
     },
     "execution_count": 119,
     "metadata": {},
     "output_type": "execute_result"
    }
   ],
   "source": []
  },
  {
   "cell_type": "code",
   "execution_count": 138,
   "metadata": {},
   "outputs": [
    {
     "data": {
      "text/plain": [
       "<generator object <genexpr> at 0x000001ABCE455E60>"
      ]
     },
     "execution_count": 138,
     "metadata": {},
     "output_type": "execute_result"
    }
   ],
   "source": [
    "((x, y) for y in range(3) for x in range(20))"
   ]
  },
  {
   "cell_type": "code",
   "execution_count": null,
   "metadata": {
    "collapsed": true
   },
   "outputs": [],
   "source": []
  }
 ],
 "metadata": {
  "kernelspec": {
   "display_name": "Python 3",
   "language": "python",
   "name": "python3"
  },
  "language_info": {
   "codemirror_mode": {
    "name": "ipython",
    "version": 3
   },
   "file_extension": ".py",
   "mimetype": "text/x-python",
   "name": "python",
   "nbconvert_exporter": "python",
   "pygments_lexer": "ipython3",
   "version": "3.6.2"
  }
 },
 "nbformat": 4,
 "nbformat_minor": 2
}
