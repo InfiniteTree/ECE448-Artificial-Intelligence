{
 "cells": [
  {
   "cell_type": "code",
   "execution_count": 31,
   "metadata": {
    "collapsed": true
   },
   "outputs": [],
   "source": [
    "import numpy as np\n",
    "from collections import defaultdict\n",
    "\n",
    "dominos = [np.array([[i],[i]]) for i in range(1,31)]\n",
    "triominos = [np.array([[i,0],[i,i]]) for i in range(1,21)]\n",
    "\n",
    "pentnominos = [np.array([[0,1,1],\n",
    "                   [1,1,0],\n",
    "                   [0,1,0]]),\n",
    "        np.array([[2],\n",
    "                  [2],\n",
    "                  [2],\n",
    "                  [2],\n",
    "                  [2]]),\n",
    "        np.array([[3,0],\n",
    "                  [3,0],\n",
    "                  [3,0],\n",
    "                  [3,3]]),\n",
    "        np.array([[0,4],\n",
    "                  [0,4],\n",
    "                  [4,4],\n",
    "                  [4,0]]),\n",
    "        np.array([[5,5],\n",
    "                  [5,5],\n",
    "                  [5,0]]),\n",
    "        np.array([[6,6,6],\n",
    "                  [0,6,0],\n",
    "                  [0,6,0]]),\n",
    "        np.array([[7,0,7], \n",
    "                  [7,7,7]]),\n",
    "        np.array([[8,0,0], \n",
    "                  [8,0,0],\n",
    "                  [8,8,8]]),\n",
    "        np.array([[9,0,0],\n",
    "                  [9,9,0],\n",
    "                  [0,9,9]]),\n",
    "        np.array([[0,10,0],\n",
    "                  [10,10,10],\n",
    "                  [0,10,0]]),\n",
    "        np.array([[0,11],\n",
    "                  [11,11],\n",
    "                  [0,11],\n",
    "                  [0,11]]),\n",
    "        np.array([[12,12,0],\n",
    "                  [0,12,0],\n",
    "                  [0,12,12]])]\n",
    "\n",
    "### print(dominos)\n",
    "### print(triominos)\n",
    "### print(pentnominos)"
   ]
  },
  {
   "cell_type": "code",
   "execution_count": 2,
   "metadata": {},
   "outputs": [
    {
     "name": "stdout",
     "output_type": "stream",
     "text": [
      "[[1. 1. 1. 1. 1. 1. 1. 1. 1. 1.]\n",
      " [1. 1. 1. 1. 1. 1. 1. 1. 1. 1.]\n",
      " [1. 1. 1. 1. 1. 1. 1. 1. 1. 1.]\n",
      " [1. 1. 1. 1. 1. 1. 1. 1. 1. 1.]\n",
      " [1. 1. 1. 1. 1. 1. 1. 1. 1. 1.]\n",
      " [1. 1. 1. 1. 1. 1. 1. 1. 1. 1.]]\n"
     ]
    }
   ],
   "source": [
    "board_6x10 = np.ones((6,10))\n",
    "board_5x12 = np.ones((5,12))\n",
    "board_3x20 = np.ones((3,20))\n",
    "\n",
    "board_t=board_6x10\n",
    "print(board_t)\n",
    "###print(np.array(board_t))"
   ]
  },
  {
   "cell_type": "code",
   "execution_count": 4,
   "metadata": {},
   "outputs": [
    {
     "name": "stdout",
     "output_type": "stream",
     "text": [
      "(6, 10)\n"
     ]
    }
   ],
   "source": [
    "print(board_6x10.shape)"
   ]
  },
  {
   "cell_type": "code",
   "execution_count": 5,
   "metadata": {},
   "outputs": [
    {
     "name": "stdout",
     "output_type": "stream",
     "text": [
      "[[3 0]\n",
      " [3 0]\n",
      " [3 0]\n",
      " [3 3]]\n"
     ]
    }
   ],
   "source": [
    "p = pentnominos[2]\n",
    "print(pentnominos[2])"
   ]
  },
  {
   "cell_type": "code",
   "execution_count": null,
   "metadata": {
    "collapsed": true
   },
   "outputs": [],
   "source": []
  },
  {
   "cell_type": "code",
   "execution_count": 6,
   "metadata": {},
   "outputs": [
    {
     "name": "stdout",
     "output_type": "stream",
     "text": [
      "1 2\n",
      "1\n"
     ]
    }
   ],
   "source": [
    "i,j = 1,2\n",
    "print(i,j)\n",
    "print(i)"
   ]
  },
  {
   "cell_type": "code",
   "execution_count": 7,
   "metadata": {},
   "outputs": [
    {
     "name": "stdout",
     "output_type": "stream",
     "text": [
      "0\n",
      "1\n",
      "2\n",
      "3\n"
     ]
    }
   ],
   "source": [
    "for i in range(4):\n",
    "    print(i)"
   ]
  },
  {
   "cell_type": "code",
   "execution_count": 8,
   "metadata": {
    "collapsed": true
   },
   "outputs": [],
   "source": [
    "def getMutations(pent):\n",
    "    mutations = [] # use a set to avoid add reduplicated numpy mutation\n",
    "    mutation = tuple(pent)\n",
    "    rotation_num = 4 # rot90° while in a 2-D plane 360°/90° = 4\n",
    "    flip_num = 2 # Two possible flipping trials with flip 180°\n",
    "\n",
    "    i=0\n",
    "    while i<rotation_num:\n",
    "        j = 0\n",
    "        while j<flip_num:\n",
    "            mutations.append(mutation) # add first to add the original pent\n",
    "            mutation = np.flip(mutation)\n",
    "            j += 1\n",
    "        mutation = np.rot90(mutation)\n",
    "        i += 1\n",
    "    return mutations"
   ]
  },
  {
   "cell_type": "code",
   "execution_count": 9,
   "metadata": {},
   "outputs": [
    {
     "data": {
      "text/plain": [
       "[(array([3, 0]), array([3, 0]), array([3, 0]), array([3, 3])), array([[3, 3],\n",
       "        [0, 3],\n",
       "        [0, 3],\n",
       "        [0, 3]]), array([[0, 0, 0, 3],\n",
       "        [3, 3, 3, 3]]), array([[3, 3, 3, 3],\n",
       "        [3, 0, 0, 0]]), array([[3, 3],\n",
       "        [0, 3],\n",
       "        [0, 3],\n",
       "        [0, 3]]), array([[3, 0],\n",
       "        [3, 0],\n",
       "        [3, 0],\n",
       "        [3, 3]]), array([[3, 3, 3, 3],\n",
       "        [3, 0, 0, 0]]), array([[0, 0, 0, 3],\n",
       "        [3, 3, 3, 3]])]"
      ]
     },
     "execution_count": 9,
     "metadata": {},
     "output_type": "execute_result"
    }
   ],
   "source": [
    "getMutations(p)"
   ]
  },
  {
   "cell_type": "code",
   "execution_count": 10,
   "metadata": {},
   "outputs": [
    {
     "name": "stdout",
     "output_type": "stream",
     "text": [
      "(array([3, 0]), array([3, 0]), array([3, 0]), array([3, 3]))\n",
      "[[3 0]\n",
      " [3 0]\n",
      " [3 0]\n",
      " [3 3]]\n"
     ]
    }
   ],
   "source": [
    "print(tuple(p))\n",
    "print(p)"
   ]
  },
  {
   "cell_type": "code",
   "execution_count": null,
   "metadata": {
    "collapsed": true
   },
   "outputs": [],
   "source": [
    "\n"
   ]
  },
  {
   "cell_type": "code",
   "execution_count": null,
   "metadata": {
    "collapsed": true
   },
   "outputs": [],
   "source": []
  },
  {
   "cell_type": "code",
   "execution_count": 11,
   "metadata": {
    "collapsed": true
   },
   "outputs": [],
   "source": [
    "'''\n",
    "Function getMutation\n",
    "Input: A pent\n",
    "Output: A list contain all of the possible mutations by flipping and rotation of a pent\n",
    "        with the relative coordinates of each squares\n",
    "'''\n",
    "def getMutations(pent):\n",
    "    mutations = set() # use a set to avoid add reduplicated numpy mutation\n",
    "    mutation = pent\n",
    "    rotation_num = 4 # rot90° while in a 2-D plane 360°/90° = 4\n",
    "    flip_num = 2 # Two possible flipping trials with flip 180°\n",
    "\n",
    "    i=0\n",
    "    while i<rotation_num:\n",
    "        j = 0\n",
    "        while j<flip_num:\n",
    "            Tran_mutation = getSingleMutation(mutation)\n",
    "            mutations.add(Tran_mutation) # add first to add the original pent\n",
    "            mutation = np.flip(mutation,j-1)\n",
    "            ### print(\"mutation is\",mutation)\n",
    "            j += 1\n",
    "        mutation = np.rot90(mutation)\n",
    "        i += 1\n",
    "    return list(mutations)\n",
    "\n",
    "'''\n",
    "Function getSingleMutation\n",
    "Input: A mutation\n",
    "Output: A tuple contain one mutations by flipping or rotation of a pent\n",
    "        with the relative coordinates of each squares\n",
    "'''\n",
    "def getSingleMutation(mutation):\n",
    "    coords = tuple() # use tuple to avoid np error in add\n",
    "    for x, y in np.ndindex(mutation.shape):\n",
    "        if mutation[x][y] != 0:\n",
    "            coords += ((x, y),)\n",
    "\n",
    "    origin = coords[0] # Define the origin pos of the mutation to calculate the other squares' coordinates\n",
    "\n",
    "    for coord in coords:\n",
    "        if coord[1] < origin[1]:\n",
    "            origin = coord\n",
    "        elif coord[1] == origin[1] and coord[0] < origin[0]:\n",
    "            origin = coord\n",
    "\n",
    "    TranMutation = tuple()\n",
    "    for coord in coords:\n",
    "        TranMutation += ((coord[0] - origin[0], coord[1] - origin[1]),)\n",
    "\n",
    "    return tuple(sorted(TranMutation)) \n"
   ]
  },
  {
   "cell_type": "code",
   "execution_count": 12,
   "metadata": {},
   "outputs": [
    {
     "data": {
      "text/plain": [
       "[((-3, 1), (-2, 1), (-1, 1), (0, 0), (0, 1)),\n",
       " ((0, 0), (0, 1), (1, 0), (2, 0), (3, 0)),\n",
       " ((0, 0), (0, 1), (0, 2), (0, 3), (1, 0)),\n",
       " ((0, 0), (1, 0), (2, 0), (3, 0), (3, 1)),\n",
       " ((0, 0), (1, 0), (1, 1), (1, 2), (1, 3)),\n",
       " ((0, 0), (0, 1), (1, 1), (2, 1), (3, 1)),\n",
       " ((0, 0), (0, 1), (0, 2), (0, 3), (1, 3)),\n",
       " ((-1, 3), (0, 0), (0, 1), (0, 2), (0, 3))]"
      ]
     },
     "execution_count": 12,
     "metadata": {},
     "output_type": "execute_result"
    }
   ],
   "source": [
    "getMutations(p)"
   ]
  },
  {
   "cell_type": "code",
   "execution_count": 13,
   "metadata": {
    "collapsed": true
   },
   "outputs": [],
   "source": [
    "pentnominos = [np.array([[0,1,1],\n",
    "                   [1,1,0],\n",
    "                   [0,1,0]]),\n",
    "        np.array([[2],\n",
    "                  [2],\n",
    "                  [2],\n",
    "                  [2],\n",
    "                  [2]]),\n",
    "        np.array([[3,0],\n",
    "                  [3,0],\n",
    "                  [3,0],\n",
    "                  [3,3]]),\n",
    "        np.array([[0,4],\n",
    "                  [0,4],\n",
    "                  [4,4],\n",
    "                  [4,0]]),\n",
    "        np.array([[5,5],\n",
    "                  [5,5],\n",
    "                  [5,0]]),\n",
    "        np.array([[6,6,6],\n",
    "                  [0,6,0],\n",
    "                  [0,6,0]]),\n",
    "        np.array([[7,0,7], \n",
    "                  [7,7,7]]),\n",
    "        np.array([[8,0,0], \n",
    "                  [8,0,0],\n",
    "                  [8,8,8]]),\n",
    "        np.array([[9,0,0],\n",
    "                  [9,9,0],\n",
    "                  [0,9,9]]),\n",
    "        np.array([[0,10,0],\n",
    "                  [10,10,10],\n",
    "                  [0,10,0]]),\n",
    "        np.array([[0,11],\n",
    "                  [11,11],\n",
    "                  [0,11],\n",
    "                  [0,11]]),\n",
    "        np.array([[12,12,0],\n",
    "                  [0,12,0],\n",
    "                  [0,12,12]])]"
   ]
  },
  {
   "cell_type": "code",
   "execution_count": 14,
   "metadata": {
    "collapsed": true
   },
   "outputs": [],
   "source": [
    "def getPTypeAndLable(pent):\n",
    "    PLabel, PType = 0, 0\n",
    "    for row in range(pent.shape[0]):\n",
    "        for col in range(pent.shape[1]):\n",
    "            if pent[row][col] != 0:\n",
    "                PType += 1\n",
    "                if PLabel == 0:\n",
    "                    PLabel = pent[row][col]\n",
    "    return PType, PLabel"
   ]
  },
  {
   "cell_type": "code",
   "execution_count": 15,
   "metadata": {},
   "outputs": [
    {
     "data": {
      "text/plain": [
       "tuple"
      ]
     },
     "execution_count": 15,
     "metadata": {},
     "output_type": "execute_result"
    }
   ],
   "source": [
    "type(getPTypeAndLable(p))"
   ]
  },
  {
   "cell_type": "code",
   "execution_count": 263,
   "metadata": {
    "collapsed": true
   },
   "outputs": [],
   "source": [
    "def in_bound(board_size, pent):\n",
    "    '''\n",
    "    Function: in_bound\n",
    "    Instruction: Help to judge whether a pent to place is in bound\n",
    "    Input: board_size, pent\n",
    "    Output: A bool value: True indicates in bound while false for out of bound\n",
    "    '''\n",
    "    return 0 <= pent[0] < board_size[0] and 0 <= pent[1] < board_size[1]"
   ]
  },
  {
   "cell_type": "code",
   "execution_count": 218,
   "metadata": {},
   "outputs": [],
   "source": [
    "pents = pentnominos\n",
    "def getPentsMap(pents):\n",
    "    '''\n",
    "    Function getPentsMap\n",
    "    Input: Pents\n",
    "    Output: A dictionary contain the (type, label) as the key,\n",
    "            and the coordinates of all mutations by all pents as the value\n",
    "    '''\n",
    "    pentsMaps = {}\n",
    "    p_type = 0 # (2/3/5) the number of squares that some pent is made by \n",
    "    p_label = 0 # for pento:1-12\n",
    "    for pent in pents:\n",
    "        p_type, p_label = getPTypeAndLable(pent)\n",
    "        pentsMaps[p_label] = getMutations(pent)\n",
    "    return pentsMaps"
   ]
  },
  {
   "cell_type": "code",
   "execution_count": 270,
   "metadata": {},
   "outputs": [],
   "source": [
    "def pents_dfs(board, pents_maps, dfs_call):\n",
    "    '''\n",
    "    Function: pents_dfs\n",
    "    Instruction: Using dfs algorithm doing recursion to find a accessible solution\n",
    "    Input: board_size, pent\n",
    "    Output: A bool value: True indicates in bound while false for out of bound\n",
    "    '''\n",
    "    find_status = False # a flag for indicating whether successful to find a final solution\n",
    "    next_loop = False # a flag for next loop in travesal one pents_map\n",
    "    dfs_call[0]+=1\n",
    "    \n",
    "    # The pents_maps is empty\n",
    "    if not pents_maps:\n",
    "        print(\"The number of times to call dfs function:\")\n",
    "        print (dfs_call)\n",
    "        find_status = True\n",
    "        return find_status, board\n",
    "\n",
    "    # Traversal all of the points in the board matrix to put the pents into it\n",
    "    for x, y in ((x, y) for y in range(board.shape[1]) for x in range(board.shape[0])):\n",
    "        # first find the the uncovered position to add a pent\n",
    "        if board[x][y] == 0:\n",
    "            for plabel, mutations in pents_maps.items():\n",
    "                for mutation in mutations:\n",
    "                    next_loop = False\n",
    "                    pent = [0, 0]\n",
    "                    # check whether it's accessible to add the pent onto the board\n",
    "                    for x_move, y_move in mutation:\n",
    "                        pent[0] = x + x_move\n",
    "                        pent[1] = y + y_move\n",
    "                        if not in_bound(board.shape, pent) or board[x + x_move][y + y_move] != 0:\n",
    "                            next_loop = True\n",
    "                            break\n",
    "\n",
    "                    # continue to the next loop if a new pent can not be added\n",
    "                    if next_loop:\n",
    "                        continue\n",
    "\n",
    "                    # data updated for next recursion\n",
    "                    new_board = np.array(board)\n",
    "                    new_pents_maps = dict(pents_maps)\n",
    "                    new_pents_maps.pop(plabel)\n",
    "                    for x_move, y_move in mutation:\n",
    "                        new_board[x + x_move][y + y_move] = plabel # add the pent to the board\n",
    "                    \n",
    "                    # dfs Recursion: forward-tracking\n",
    "                    find_status, res_board = pents_dfs(new_board, new_pents_maps, dfs_call)\n",
    "\n",
    "                    if find_status:\n",
    "                        return find_status, res_board\n",
    "\n",
    "            return find_status, board\n"
   ]
  },
  {
   "cell_type": "code",
   "execution_count": 268,
   "metadata": {
    "collapsed": true
   },
   "outputs": [],
   "source": [
    "def solve(board, pents):\n",
    "    board = np.array(board)\n",
    "\n",
    "    # change the board a litte to be compatible with the pents\n",
    "    board[board == 0] = -1\n",
    "    board[board == 1] = 0\n",
    "    \n",
    "    #print(\"pents_maps is\",pents_map)\n",
    "    pents_maps = getPentsMap(pents)\n",
    "\n",
    "    ### print(pents_map)\n",
    "    init_call = [0] # Use a list to counter the number of times call by recursive pents_dfs. list:Variable type\n",
    "    res_status, res_board = pents_dfs(board, dict(pents_maps), init_call)\n",
    "    ### print(res_status)\n",
    "    ### print(res_board)\n",
    "    \n",
    "    if not res_status:\n",
    "        print(\"Failed: Could not found a solution\")\n",
    "        return\n",
    "    \n",
    "    elif res_status:\n",
    "        # use the board to determine the final layout to return\n",
    "        pents_coords = defaultdict(list)\n",
    "        for x, y in np.ndindex(res_board.shape):\n",
    "            if res_board[x][y] in pents_maps:\n",
    "                pents_coords[res_board[x][y]].append((x, y))\n",
    "\n",
    "        sol = []\n",
    "\n",
    "        for plabel, coords in pents_coords.items():\n",
    "            min_x, max_x, min_y, max_y = coords[0][0], coords[0][0], coords[0][1], coords[0][1]\n",
    "\n",
    "            for coord in coords:\n",
    "                min_x, max_x = min(min_x, coord[0]), max(max_x, coord[0])\n",
    "                min_y, max_y = min(min_y, coord[1]), max(max_y, coord[1])\n",
    "\n",
    "            piece = np.zeros((max_x - min_x + 1, max_y - min_y + 1))\n",
    "\n",
    "            for coord in coords:\n",
    "                piece[coord[0] - min_x][coord[1] - min_y] = plabel\n",
    "\n",
    "            sol.append((piece.astype(int), (min_x, min_y)))\n",
    "        ### print(sol)\n",
    "        return sol"
   ]
  },
  {
   "cell_type": "code",
   "execution_count": 271,
   "metadata": {},
   "outputs": [
    {
     "name": "stdout",
     "output_type": "stream",
     "text": [
      "The number of times to call dfs function:\n",
      "[11127]\n"
     ]
    },
    {
     "data": {
      "text/plain": [
       "[(array([[1, 1, 0],\n",
       "         [0, 1, 1],\n",
       "         [0, 1, 0]]), (0, 0)), (array([[6, 6, 6],\n",
       "         [0, 6, 0],\n",
       "         [0, 6, 0]]), (0, 2)), (array([[0, 9, 9],\n",
       "         [9, 9, 0],\n",
       "         [9, 0, 0]]), (0, 4)), (array([[ 0, 10,  0],\n",
       "         [10, 10, 10],\n",
       "         [ 0, 10,  0]]), (0, 6)), (array([[7, 7],\n",
       "         [0, 7],\n",
       "         [7, 7]]), (0, 8)), (array([[2],\n",
       "         [2],\n",
       "         [2],\n",
       "         [2],\n",
       "         [2]]), (1, 0)), (array([[0, 4],\n",
       "         [4, 4],\n",
       "         [4, 0],\n",
       "         [4, 0]]), (2, 1)), (array([[ 0,  0, 12],\n",
       "         [12, 12, 12],\n",
       "         [12,  0,  0]]), (2, 3)), (array([[0, 0, 8],\n",
       "         [0, 0, 8],\n",
       "         [8, 8, 8]]), (2, 4)), (array([[5, 5, 5],\n",
       "         [0, 5, 5]]), (3, 7)), (array([[3, 0, 0, 0],\n",
       "         [3, 3, 3, 3]]), (4, 2)), (array([[ 0, 11,  0,  0],\n",
       "         [11, 11, 11, 11]]), (4, 6))]"
      ]
     },
     "execution_count": 271,
     "metadata": {},
     "output_type": "execute_result"
    }
   ],
   "source": [
    "solve(board_t,pents)"
   ]
  },
  {
   "cell_type": "code",
   "execution_count": null,
   "metadata": {
    "collapsed": true
   },
   "outputs": [],
   "source": []
  },
  {
   "cell_type": "code",
   "execution_count": null,
   "metadata": {},
   "outputs": [],
   "source": []
  },
  {
   "cell_type": "code",
   "execution_count": null,
   "metadata": {
    "collapsed": true
   },
   "outputs": [],
   "source": []
  },
  {
   "cell_type": "code",
   "execution_count": null,
   "metadata": {},
   "outputs": [],
   "source": []
  },
  {
   "cell_type": "code",
   "execution_count": null,
   "metadata": {
    "collapsed": true
   },
   "outputs": [],
   "source": []
  },
  {
   "cell_type": "code",
   "execution_count": null,
   "metadata": {
    "collapsed": true
   },
   "outputs": [],
   "source": []
  }
 ],
 "metadata": {
  "kernelspec": {
   "display_name": "Python 3",
   "language": "python",
   "name": "python3"
  },
  "language_info": {
   "codemirror_mode": {
    "name": "ipython",
    "version": 3
   },
   "file_extension": ".py",
   "mimetype": "text/x-python",
   "name": "python",
   "nbconvert_exporter": "python",
   "pygments_lexer": "ipython3",
   "version": "3.6.2"
  }
 },
 "nbformat": 4,
 "nbformat_minor": 2
}
