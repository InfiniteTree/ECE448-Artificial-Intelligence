{
 "cells": [
  {
   "cell_type": "code",
   "execution_count": 43,
   "metadata": {
    "collapsed": true
   },
   "outputs": [],
   "source": [
    "import numpy as np\n",
    "\n",
    "dominos = [np.array([[i],[i]]) for i in range(1,31)]\n",
    "triominos = [np.array([[i,0],[i,i]]) for i in range(1,21)]\n",
    "\n",
    "pentnominos = [np.array([[0,1,1],\n",
    "                   [1,1,0],\n",
    "                   [0,1,0]]),\n",
    "        np.array([[2],\n",
    "                  [2],\n",
    "                  [2],\n",
    "                  [2],\n",
    "                  [2]]),\n",
    "        np.array([[3,0],\n",
    "                  [3,0],\n",
    "                  [3,0],\n",
    "                  [3,3]]),\n",
    "        np.array([[0,4],\n",
    "                  [0,4],\n",
    "                  [4,4],\n",
    "                  [4,0]]),\n",
    "        np.array([[5,5],\n",
    "                  [5,5],\n",
    "                  [5,0]]),\n",
    "        np.array([[6,6,6],\n",
    "                  [0,6,0],\n",
    "                  [0,6,0]]),\n",
    "        np.array([[7,0,7], \n",
    "                  [7,7,7]]),\n",
    "        np.array([[8,0,0], \n",
    "                  [8,0,0],\n",
    "                  [8,8,8]]),\n",
    "        np.array([[9,0,0],\n",
    "                  [9,9,0],\n",
    "                  [0,9,9]]),\n",
    "        np.array([[0,10,0],\n",
    "                  [10,10,10],\n",
    "                  [0,10,0]]),\n",
    "        np.array([[0,11],\n",
    "                  [11,11],\n",
    "                  [0,11],\n",
    "                  [0,11]]),\n",
    "        np.array([[12,12,0],\n",
    "                  [0,12,0],\n",
    "                  [0,12,12]])]\n",
    "\n",
    "### print(dominos)\n",
    "### print(triominos)\n",
    "### print(pentnominos)"
   ]
  },
  {
   "cell_type": "code",
   "execution_count": 2,
   "metadata": {},
   "outputs": [
    {
     "name": "stdout",
     "output_type": "stream",
     "text": [
      "[[1. 1. 1. 1. 1. 1. 1. 1. 1. 1.]\n",
      " [1. 1. 1. 1. 1. 1. 1. 1. 1. 1.]\n",
      " [1. 1. 1. 1. 1. 1. 1. 1. 1. 1.]\n",
      " [1. 1. 1. 1. 1. 1. 1. 1. 1. 1.]\n",
      " [1. 1. 1. 1. 1. 1. 1. 1. 1. 1.]\n",
      " [1. 1. 1. 1. 1. 1. 1. 1. 1. 1.]]\n"
     ]
    }
   ],
   "source": [
    "board_6x10 = np.ones((6,10))\n",
    "board_5x12 = np.ones((5,12))\n",
    "board_3x20 = np.ones((3,20))\n",
    "\n",
    "board_t=board_6x10\n",
    "print(board_t)\n",
    "###print(np.array(board_t))"
   ]
  },
  {
   "cell_type": "code",
   "execution_count": 4,
   "metadata": {},
   "outputs": [
    {
     "name": "stdout",
     "output_type": "stream",
     "text": [
      "(6, 10)\n"
     ]
    }
   ],
   "source": [
    "print(board_6x10.shape)"
   ]
  },
  {
   "cell_type": "code",
   "execution_count": 3,
   "metadata": {},
   "outputs": [
    {
     "name": "stdout",
     "output_type": "stream",
     "text": [
      "[[3 0]\n",
      " [3 0]\n",
      " [3 0]\n",
      " [3 3]]\n"
     ]
    }
   ],
   "source": [
    "p = pentnominos[2]\n",
    "print(pentnominos[2])"
   ]
  },
  {
   "cell_type": "code",
   "execution_count": null,
   "metadata": {},
   "outputs": [],
   "source": []
  },
  {
   "cell_type": "code",
   "execution_count": 15,
   "metadata": {},
   "outputs": [
    {
     "name": "stdout",
     "output_type": "stream",
     "text": [
      "1 2\n",
      "1\n"
     ]
    }
   ],
   "source": [
    "i,j = 1,2\n",
    "print(i,j)\n",
    "print(i)"
   ]
  },
  {
   "cell_type": "code",
   "execution_count": 14,
   "metadata": {},
   "outputs": [
    {
     "name": "stdout",
     "output_type": "stream",
     "text": [
      "0\n",
      "1\n",
      "2\n",
      "3\n"
     ]
    }
   ],
   "source": [
    "for i in range(4):\n",
    "    print(i)"
   ]
  },
  {
   "cell_type": "code",
   "execution_count": 46,
   "metadata": {
    "collapsed": true
   },
   "outputs": [],
   "source": [
    "def getMutations(pent):\n",
    "    mutations = [] # use a set to avoid add reduplicated numpy mutation\n",
    "    mutation = tuple(pent)\n",
    "    rotation_num = 4 # rot90° while in a 2-D plane 360°/90° = 4\n",
    "    flip_num = 2 # Two possible flipping trials with flip 180°\n",
    "\n",
    "    i=0\n",
    "    while i<rotation_num:\n",
    "        j = 0\n",
    "        while j<flip_num:\n",
    "            mutations.append(mutation) # add first to add the original pent\n",
    "            mutation = np.flip(mutation)\n",
    "            j += 1\n",
    "        mutation = np.rot90(mutation)\n",
    "        i += 1\n",
    "    return mutations"
   ]
  },
  {
   "cell_type": "code",
   "execution_count": 48,
   "metadata": {},
   "outputs": [
    {
     "name": "stdout",
     "output_type": "stream",
     "text": [
      "<class 'tuple'>\n"
     ]
    },
    {
     "data": {
      "text/plain": [
       "[(array([3, 0]), array([3, 0]), array([3, 0]), array([3, 3])), array([[3, 3],\n",
       "        [0, 3],\n",
       "        [0, 3],\n",
       "        [0, 3]]), array([[0, 0, 0, 3],\n",
       "        [3, 3, 3, 3]]), array([[3, 3, 3, 3],\n",
       "        [3, 0, 0, 0]]), array([[3, 3],\n",
       "        [0, 3],\n",
       "        [0, 3],\n",
       "        [0, 3]]), array([[3, 0],\n",
       "        [3, 0],\n",
       "        [3, 0],\n",
       "        [3, 3]]), array([[3, 3, 3, 3],\n",
       "        [3, 0, 0, 0]]), array([[0, 0, 0, 3],\n",
       "        [3, 3, 3, 3]])]"
      ]
     },
     "execution_count": 48,
     "metadata": {},
     "output_type": "execute_result"
    }
   ],
   "source": [
    "getMutations(p)"
   ]
  },
  {
   "cell_type": "code",
   "execution_count": 51,
   "metadata": {},
   "outputs": [
    {
     "name": "stdout",
     "output_type": "stream",
     "text": [
      "(array([3, 0]), array([3, 0]), array([3, 0]), array([3, 3]))\n",
      "[[3 0]\n",
      " [3 0]\n",
      " [3 0]\n",
      " [3 3]]\n"
     ]
    }
   ],
   "source": [
    "print(tuple(p))\n",
    "print(p)"
   ]
  },
  {
   "cell_type": "code",
   "execution_count": null,
   "metadata": {},
   "outputs": [],
   "source": [
    "\n"
   ]
  },
  {
   "cell_type": "code",
   "execution_count": null,
   "metadata": {},
   "outputs": [],
   "source": []
  },
  {
   "cell_type": "code",
   "execution_count": 86,
   "metadata": {
    "collapsed": true
   },
   "outputs": [],
   "source": [
    "'''\n",
    "Function getMutation\n",
    "Input: A pent\n",
    "Output: A list contain all of the possible mutations by flipping and rotation of a pent\n",
    "        with the relative coordinates of each squares\n",
    "'''\n",
    "def getMutations(pent):\n",
    "    mutations = set() # use a set to avoid add reduplicated numpy mutation\n",
    "    mutation = pent\n",
    "    rotation_num = 4 # rot90° while in a 2-D plane 360°/90° = 4\n",
    "    flip_num = 2 # Two possible flipping trials with flip 180°\n",
    "\n",
    "    i=0\n",
    "    while i<rotation_num:\n",
    "        j = 0\n",
    "        while j<flip_num:\n",
    "            Tran_mutation = getSingleMutation(mutation)\n",
    "            mutations.add(Tran_mutation) # add first to add the original pent\n",
    "            mutation = np.flip(mutation,j-1)\n",
    "            ### print(\"mutation is\",mutation)\n",
    "            j += 1\n",
    "        mutation = np.rot90(mutation)\n",
    "        i += 1\n",
    "    return list(mutations)\n",
    "\n",
    "'''\n",
    "Function getSingleMutation\n",
    "Input: A mutation\n",
    "Output: A tuple contain one mutations by flipping or rotation of a pent\n",
    "        with the relative coordinates of each squares\n",
    "'''\n",
    "def getSingleMutation(mutation):\n",
    "    coords = tuple() # use tuple to avoid np error in add\n",
    "    for x, y in np.ndindex(mutation.shape):\n",
    "        if mutation[x][y] != 0:\n",
    "            coords += ((x, y),)\n",
    "\n",
    "    origin = coords[0] # Define the origin pos of the mutation to calculate the other squares' coordinates\n",
    "\n",
    "    for coord in coords:\n",
    "        if coord[1] < origin[1]:\n",
    "            origin = coord\n",
    "        elif coord[1] == origin[1] and coord[0] < origin[0]:\n",
    "            origin = coord\n",
    "\n",
    "    TranMutation = tuple()\n",
    "    for coord in coords:\n",
    "        TranMutation += ((coord[0] - origin[0], coord[1] - origin[1]),)\n",
    "\n",
    "    return tuple(sorted(TranMutation)) \n"
   ]
  },
  {
   "cell_type": "code",
   "execution_count": 84,
   "metadata": {},
   "outputs": [
    {
     "data": {
      "text/plain": [
       "[((-3, 1), (-2, 1), (-1, 1), (0, 0), (0, 1)),\n",
       " ((0, 0), (0, 1), (1, 0), (2, 0), (3, 0)),\n",
       " ((0, 0), (0, 1), (0, 2), (0, 3), (1, 0)),\n",
       " ((0, 0), (1, 0), (2, 0), (3, 0), (3, 1)),\n",
       " ((0, 0), (1, 0), (1, 1), (1, 2), (1, 3)),\n",
       " ((0, 0), (0, 1), (1, 1), (2, 1), (3, 1)),\n",
       " ((0, 0), (0, 1), (0, 2), (0, 3), (1, 3)),\n",
       " ((-1, 3), (0, 0), (0, 1), (0, 2), (0, 3))]"
      ]
     },
     "execution_count": 84,
     "metadata": {},
     "output_type": "execute_result"
    }
   ],
   "source": [
    "getMutations(p)"
   ]
  },
  {
   "cell_type": "code",
   "execution_count": 90,
   "metadata": {},
   "outputs": [],
   "source": [
    "pentnominos = [np.array([[0,1,1],\n",
    "                   [1,1,0],\n",
    "                   [0,1,0]]),\n",
    "        np.array([[2],\n",
    "                  [2],\n",
    "                  [2],\n",
    "                  [2],\n",
    "                  [2]]),\n",
    "        np.array([[3,0],\n",
    "                  [3,0],\n",
    "                  [3,0],\n",
    "                  [3,3]]),\n",
    "        np.array([[0,4],\n",
    "                  [0,4],\n",
    "                  [4,4],\n",
    "                  [4,0]]),\n",
    "        np.array([[5,5],\n",
    "                  [5,5],\n",
    "                  [5,0]]),\n",
    "        np.array([[6,6,6],\n",
    "                  [0,6,0],\n",
    "                  [0,6,0]]),\n",
    "        np.array([[7,0,7], \n",
    "                  [7,7,7]]),\n",
    "        np.array([[8,0,0], \n",
    "                  [8,0,0],\n",
    "                  [8,8,8]]),\n",
    "        np.array([[9,0,0],\n",
    "                  [9,9,0],\n",
    "                  [0,9,9]]),\n",
    "        np.array([[0,10,0],\n",
    "                  [10,10,10],\n",
    "                  [0,10,0]]),\n",
    "        np.array([[0,11],\n",
    "                  [11,11],\n",
    "                  [0,11],\n",
    "                  [0,11]]),\n",
    "        np.array([[12,12,0],\n",
    "                  [0,12,0],\n",
    "                  [0,12,12]])]"
   ]
  },
  {
   "cell_type": "code",
   "execution_count": 87,
   "metadata": {
    "collapsed": true
   },
   "outputs": [],
   "source": [
    "def getPTypeAndLable(pent):\n",
    "    PLabel, PType = 0, 0\n",
    "    for row in range(pent.shape[0]):\n",
    "        for col in range(pent.shape[1]):\n",
    "            if pent[row][col] != 0:\n",
    "                PType += 1\n",
    "                if PLabel == 0:\n",
    "                    PLabel = pent[row][col]\n",
    "    return PType, PLabel"
   ]
  },
  {
   "cell_type": "code",
   "execution_count": 89,
   "metadata": {},
   "outputs": [
    {
     "data": {
      "text/plain": [
       "tuple"
      ]
     },
     "execution_count": 89,
     "metadata": {},
     "output_type": "execute_result"
    }
   ],
   "source": [
    "type(getPTypeAndLable(p))"
   ]
  },
  {
   "cell_type": "code",
   "execution_count": 94,
   "metadata": {},
   "outputs": [
    {
     "name": "stdout",
     "output_type": "stream",
     "text": [
      "{(5, 1): [((0, 0), (0, 1), (1, 1), (1, 2), (2, 1)), ((0, 0), (1, 0), (1, 1), (1, 2), (2, 1)), ((-1, 1), (0, 0), (0, 1), (1, 1), (1, 2)), ((-1, 2), (0, 0), (0, 1), (0, 2), (1, 1)), ((-1, 1), (-1, 2), (0, 0), (0, 1), (1, 1)), ((-1, 1), (0, 0), (0, 1), (0, 2), (1, 0)), ((-1, 1), (0, 0), (0, 1), (0, 2), (1, 2)), ((-2, 1), (-1, 1), (-1, 2), (0, 0), (0, 1))], (5, 2): [((0, 0), (0, 1), (0, 2), (0, 3), (0, 4)), ((0, 0), (1, 0), (2, 0), (3, 0), (4, 0))], (5, 3): [((-3, 1), (-2, 1), (-1, 1), (0, 0), (0, 1)), ((0, 0), (0, 1), (1, 0), (2, 0), (3, 0)), ((0, 0), (0, 1), (0, 2), (0, 3), (1, 0)), ((0, 0), (1, 0), (2, 0), (3, 0), (3, 1)), ((0, 0), (1, 0), (1, 1), (1, 2), (1, 3)), ((0, 0), (0, 1), (1, 1), (2, 1), (3, 1)), ((0, 0), (0, 1), (0, 2), (0, 3), (1, 3)), ((-1, 3), (0, 0), (0, 1), (0, 2), (0, 3))], (5, 4): [((-2, 1), (-1, 1), (0, 0), (0, 1), (1, 0)), ((-1, 1), (0, 0), (0, 1), (1, 0), (2, 0)), ((0, 0), (1, 0), (2, 0), (2, 1), (3, 1)), ((-1, 2), (-1, 3), (0, 0), (0, 1), (0, 2)), ((-1, 1), (-1, 2), (-1, 3), (0, 0), (0, 1)), ((0, 0), (0, 1), (0, 2), (1, 2), (1, 3)), ((0, 0), (1, 0), (1, 1), (2, 1), (3, 1)), ((0, 0), (0, 1), (1, 1), (1, 2), (1, 3))], (5, 5): [((0, 0), (0, 1), (1, 0), (1, 1), (2, 1)), ((-1, 1), (0, 0), (0, 1), (1, 0), (1, 1)), ((0, 0), (1, 0), (1, 1), (2, 0), (2, 1)), ((-1, 1), (-1, 2), (0, 0), (0, 1), (0, 2)), ((0, 0), (0, 1), (1, 0), (1, 1), (1, 2)), ((0, 0), (0, 1), (0, 2), (1, 0), (1, 1)), ((0, 0), (0, 1), (0, 2), (1, 1), (1, 2)), ((0, 0), (0, 1), (1, 0), (1, 1), (2, 0))], (5, 6): [((0, 0), (0, 1), (0, 2), (1, 1), (2, 1)), ((-1, 2), (0, 0), (0, 1), (0, 2), (1, 2)), ((-2, 1), (-1, 1), (0, 0), (0, 1), (0, 2)), ((0, 0), (1, 0), (1, 1), (1, 2), (2, 0))], (5, 7): [((0, 0), (0, 2), (1, 0), (1, 1), (1, 2)), ((0, 0), (0, 1), (1, 0), (2, 0), (2, 1)), ((0, 0), (0, 1), (1, 1), (2, 0), (2, 1)), ((0, 0), (0, 1), (0, 2), (1, 0), (1, 2))], (5, 8): [((0, 0), (1, 0), (2, 0), (2, 1), (2, 2)), ((0, 0), (0, 1), (0, 2), (1, 2), (2, 2)), ((0, 0), (0, 1), (0, 2), (1, 0), (2, 0)), ((-2, 2), (-1, 2), (0, 0), (0, 1), (0, 2))], (5, 9): [((0, 0), (0, 1), (1, 1), (1, 2), (2, 2)), ((-1, 1), (-1, 2), (0, 0), (0, 1), (1, 0)), ((-2, 2), (-1, 1), (-1, 2), (0, 0), (0, 1)), ((0, 0), (1, 0), (1, 1), (2, 1), (2, 2))], (5, 10): [((-1, 1), (0, 0), (0, 1), (0, 2), (1, 1))], (5, 11): [((0, 0), (1, 0), (1, 1), (2, 0), (3, 0)), ((-1, 1), (0, 0), (0, 1), (0, 2), (0, 3)), ((-2, 1), (-1, 1), (0, 0), (0, 1), (1, 1)), ((-1, 2), (0, 0), (0, 1), (0, 2), (0, 3)), ((0, 0), (0, 1), (0, 2), (0, 3), (1, 2)), ((0, 0), (0, 1), (0, 2), (0, 3), (1, 1)), ((0, 0), (1, 0), (2, 0), (2, 1), (3, 0)), ((-1, 1), (0, 0), (0, 1), (1, 1), (2, 1))], (5, 12): [((0, 0), (1, 0), (1, 1), (1, 2), (2, 2)), ((0, 0), (0, 1), (1, 1), (2, 1), (2, 2)), ((-2, 1), (-2, 2), (-1, 1), (0, 0), (0, 1)), ((-1, 2), (0, 0), (0, 1), (0, 2), (1, 0))]}\n"
     ]
    }
   ],
   "source": [
    "pents = pentnominos\n",
    "pents_mutations = {}\n",
    "p_type = 0 # (2/3/5) the number of squares that some pent is made by \n",
    "p_label = 0 # for pento:1-12\n",
    "for pent in pents:\n",
    "    p_type, p_label = getPTypeAndLable(pent)\n",
    "    pents_mutations[p_type,p_label] = getMutations(pent)\n",
    "print(pents_mutations)"
   ]
  },
  {
   "cell_type": "code",
   "execution_count": null,
   "metadata": {
    "collapsed": true
   },
   "outputs": [],
   "source": []
  }
 ],
 "metadata": {
  "kernelspec": {
   "display_name": "Python 3",
   "language": "python",
   "name": "python3"
  },
  "language_info": {
   "codemirror_mode": {
    "name": "ipython",
    "version": 3
   },
   "file_extension": ".py",
   "mimetype": "text/x-python",
   "name": "python",
   "nbconvert_exporter": "python",
   "pygments_lexer": "ipython3",
   "version": "3.6.2"
  }
 },
 "nbformat": 4,
 "nbformat_minor": 2
}
